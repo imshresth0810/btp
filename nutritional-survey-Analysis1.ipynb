{
 "cells": [
  {
   "cell_type": "code",
   "execution_count": null,
   "id": "94c57f2d",
   "metadata": {
    "vscode": {
     "languageId": "python"
    }
   },
   "outputs": [],
   "source": [
    "#Comprehensive national nutrition survey (CNNS)\n",
    "#Analysis based on Key Anthropometric Indicators by sex\n",
    "\n",
    "#Fisrst Draft"
   ]
  },
  {
   "cell_type": "code",
   "execution_count": 1,
   "id": "5e46b7d1",
   "metadata": {
    "_execution_state": "idle",
    "_uuid": "051d70d956493feee0c6d64651c6a088724dca2a",
    "execution": {
     "iopub.execute_input": "2023-10-02T16:40:21.756668Z",
     "iopub.status.busy": "2023-10-02T16:40:21.754565Z",
     "iopub.status.idle": "2023-10-02T16:40:23.019044Z",
     "shell.execute_reply": "2023-10-02T16:40:23.017012Z"
    },
    "papermill": {
     "duration": 1.272359,
     "end_time": "2023-10-02T16:40:23.021771",
     "exception": false,
     "start_time": "2023-10-02T16:40:21.749412",
     "status": "completed"
    },
    "tags": [],
    "vscode": {
     "languageId": "r"
    }
   },
   "outputs": [
    {
     "name": "stderr",
     "output_type": "stream",
     "text": [
      "── \u001b[1mAttaching core tidyverse packages\u001b[22m ──────────────────────── tidyverse 2.0.0 ──\n",
      "\u001b[32m✔\u001b[39m \u001b[34mdplyr    \u001b[39m 1.1.2     \u001b[32m✔\u001b[39m \u001b[34mreadr    \u001b[39m 2.1.4\n",
      "\u001b[32m✔\u001b[39m \u001b[34mforcats  \u001b[39m 1.0.0     \u001b[32m✔\u001b[39m \u001b[34mstringr  \u001b[39m 1.5.0\n",
      "\u001b[32m✔\u001b[39m \u001b[34mggplot2  \u001b[39m 3.4.2     \u001b[32m✔\u001b[39m \u001b[34mtibble   \u001b[39m 3.2.1\n",
      "\u001b[32m✔\u001b[39m \u001b[34mlubridate\u001b[39m 1.9.2     \u001b[32m✔\u001b[39m \u001b[34mtidyr    \u001b[39m 1.3.0\n",
      "\u001b[32m✔\u001b[39m \u001b[34mpurrr    \u001b[39m 1.0.1     \n",
      "── \u001b[1mConflicts\u001b[22m ────────────────────────────────────────── tidyverse_conflicts() ──\n",
      "\u001b[31m✖\u001b[39m \u001b[34mdplyr\u001b[39m::\u001b[32mfilter()\u001b[39m masks \u001b[34mstats\u001b[39m::filter()\n",
      "\u001b[31m✖\u001b[39m \u001b[34mdplyr\u001b[39m::\u001b[32mlag()\u001b[39m    masks \u001b[34mstats\u001b[39m::lag()\n",
      "\u001b[36mℹ\u001b[39m Use the conflicted package (\u001b[3m\u001b[34m<http://conflicted.r-lib.org/>\u001b[39m\u001b[23m) to force all conflicts to become errors\n"
     ]
    },
    {
     "data": {
      "text/html": [
       "'national-nutritional-survey'"
      ],
      "text/latex": [
       "'national-nutritional-survey'"
      ],
      "text/markdown": [
       "'national-nutritional-survey'"
      ],
      "text/plain": [
       "[1] \"national-nutritional-survey\""
      ]
     },
     "metadata": {},
     "output_type": "display_data"
    }
   ],
   "source": [
    "\n",
    "\n",
    "library(tidyverse) # metapackage of all tidyverse packages\n",
    "\n",
    "\n",
    "\n",
    "list.files(path = \"../input\")\n"
   ]
  },
  {
   "cell_type": "code",
   "execution_count": 2,
   "id": "d2edae21",
   "metadata": {
    "execution": {
     "iopub.execute_input": "2023-10-02T16:40:23.060651Z",
     "iopub.status.busy": "2023-10-02T16:40:23.028176Z",
     "iopub.status.idle": "2023-10-02T16:40:23.145400Z",
     "shell.execute_reply": "2023-10-02T16:40:23.143468Z"
    },
    "papermill": {
     "duration": 0.123688,
     "end_time": "2023-10-02T16:40:23.147803",
     "exception": false,
     "start_time": "2023-10-02T16:40:23.024115",
     "status": "completed"
    },
    "tags": [],
    "vscode": {
     "languageId": "r"
    }
   },
   "outputs": [
    {
     "name": "stdout",
     "output_type": "stream",
     "text": [
      "'data.frame':\t62 obs. of  44 variables:\n",
      " $ Rowid                                                                                                                               : int  1 2 3 4 5 6 7 8 9 10 ...\n",
      " $ Country                                                                                                                             : chr  \"India\" \"India\" \"India\" \"India\" ...\n",
      " $ State.lgd.code                                                                                                                      : int  1 1 2 2 3 3 5 5 6 6 ...\n",
      " $ State                                                                                                                               : chr  \"Jammu And Kashmir\" \"Jammu And Kashmir\" \"Himachal Pradesh\" \"Himachal Pradesh\" ...\n",
      " $ Yearcode                                                                                                                            : int  2018 2018 2018 2018 2018 2018 2018 2018 2018 2018 ...\n",
      " $ Year                                                                                                                                : chr  \"Calendar Year (Jan - Dec), 2018\" \"Calendar Year (Jan - Dec), 2018\" \"Calendar Year (Jan - Dec), 2018\" \"Calendar Year (Jan - Dec), 2018\" ...\n",
      " $ From.year                                                                                                                           : int  2016 2016 2016 2016 2016 2016 2016 2016 2016 2016 ...\n",
      " $ Gender                                                                                                                              : chr  \"Female\" \"Male\" \"Female\" \"Male\" ...\n",
      " $ Stunted..height.for.age..children.under.the.age.of.5.years....                                                                      : num  13.8 17.4 23.6 32.7 19.6 28.6 29.4 30.4 32.3 37.2 ...\n",
      " $ Severely.stunted..height.for.age..children.under.the.age.of.5.years....                                                             : num  5.1 6.7 7.9 5.7 5.1 10.5 9.7 9.9 11.2 12.1 ...\n",
      " $ Wasted..weight.for.height..children.under.the.age.of.5.years....                                                                    : num  16.7 12.7 10.6 11.5 4.1 9 6.7 5.1 10.2 13.1 ...\n",
      " $ Severely.wasted..weight.for.height..children.under.the.age.of.5.years....                                                           : num  6.1 7.8 2.7 3.4 1.4 3 2 0.8 1 3.1 ...\n",
      " $ Underweight.children.under.the.age.of.5.years....                                                                                   : num  10.1 16.6 23.2 22.1 16.2 22.9 20.6 16.9 27.4 29.9 ...\n",
      " $ Severely.underweight.children.under.the.age.of.5.years....                                                                          : num  2.8 7.3 6 4.9 2.5 6.9 3.8 3 9.8 8.3 ...\n",
      " $ Children.age.group.6.to.59.months.with.mid.upper.arm.circumference...muac...less.than.12.5.cm....                                   : num  6.4 5.6 3.5 1.5 3.9 3.6 1.6 0 5.4 4 ...\n",
      " $ Children.age.group.6.to.59.months.with.muac.mid.upper.arm.circumference..less.than.11.5.cm....                                      : num  2.6 2.5 1.3 0 1.4 0.8 0.1 0 1.2 0.3 ...\n",
      " $ Children.age.group..6.to.59.months.with.mid.upper.arm.circumference...muac...for.age.less.than..2.sd....                            : num  8.8 8.6 9.7 5.7 6.8 11.8 3.3 2.4 8.2 11 ...\n",
      " $ Children.age.group.6.to.59.months.with.mid.upper.arm.circumference...muac...for.age.less.than..3.sd....                             : num  3.4 3 0.5 0.9 1.8 1.4 0.3 0 1.9 2.9 ...\n",
      " $ Children.under.the.age.5.years.with.triceps.skinfold..thickness.for.age..less.than..2.sd....                                        : num  24.8 16.9 12.2 9.3 7.3 7.3 4.9 5.2 6.1 8.2 ...\n",
      " $ Children.under.the.age.5.years.with.triceps.skinfold..thickness.for.age..less.than..3.sd....                                        : num  5.8 6.3 1.6 0.3 0.6 1.2 0.8 2.6 2.6 1.5 ...\n",
      " $ Children.under.the.age.5.years.with.triceps.skinfold..thickness.for.age..greater.than..2.sd....                                     : num  0.7 0.8 1.2 0.1 2.7 2.2 4.1 3.8 1.1 2.3 ...\n",
      " $ Children.under.the.age.5.years.with.triceps.skinfold..thickness.for.age..greater.than..3.sd....                                     : num  0 0 0 0 0.1 0 0.3 0.3 0 0 ...\n",
      " $ Children.age.group.1.to.4.years.with.subscapular.skinfold..thickness.for.age..less.than..2.sd....                                   : num  17.4 14.7 11.2 9 5.3 4.5 7.7 5.4 5.7 10.7 ...\n",
      " $ Children.age.group.of.1.to.4.years.with.subscapular.skinfold..thickness.for.age..less.than..3.sd....                                : num  1.2 2.1 0.3 1.4 1.2 1.1 1.3 2.1 2.2 2.2 ...\n",
      " $ Children.age.group.1.to.4.years.subscapular.skinfold..thickness.for.age..greater.than..2.sd....                                     : num  1.1 3.6 2.8 1.4 0.8 3.6 4.8 4.5 1 1.4 ...\n",
      " $ Children.age.group.1.to.4.years.with.subscapular.skinfold..thickness.for.age..greater.than..3.sd....                                : num  0 0.2 0 0 0.2 0 0.5 0.6 0 0.3 ...\n",
      " $ Stunned.children.age.group.5.to.9.years....                                                                                         : num  13.1 13.5 22.5 17.8 13.9 11.2 18.3 22.4 18.8 14.5 ...\n",
      " $ Severely.stunted.children.age.group.of.5.to.9.years....                                                                             : num  5.3 4.3 2.6 3.7 2.4 2.6 4.1 4.1 3.8 2.3 ...\n",
      " $ Moderate.or.severely.thin.children.age.group.5.to.9.years.with...body.mass.index...bmi...for.age..z.score.less.than..2.sd....       : num  15.7 17.6 17.9 27 8.9 14 12.2 16.1 17.8 22.7 ...\n",
      " $ Severely.thin.children.in.the.age.group.5.to.9.years.with...body.mass.index...bmi...for.age..z.score.less.than..3.sd....            : num  6.4 7.1 4.3 4.9 2.4 2.1 2.6 4.7 2.5 4.2 ...\n",
      " $ Overweight.or.obese.children.age.group.5.to.9.years.with...body.mass.index...bmi...for.age..z.score.greater.than..1.sd....          : num  8.4 9.5 2.7 5.1 8 7.9 5.4 6.8 3.6 3.7 ...\n",
      " $ Overweight.or.obese.children.age.group.5.to.9.years.with...body.mass.index...bmi...for.age..z.score.greater.than..2.sd....          : num  2.6 4.3 1.2 1.2 2.5 3 1.5 2.3 0.9 1.4 ...\n",
      " $ Moderate.or.severely.thin.adolescents.age.group.10.to14.years.with...body.mass.index...bmi...for.age..z.score.less.than..2.sd....   : num  16.6 19 38.5 30.1 19 21.4 18.1 21.9 23.1 22.5 ...\n",
      " $ Moderate.or.severely.thin.adolescents.age.group.of.15.to19.years.with...body.mass.index...bmi...for.age..z.score.less.than..2.sd....: num  4.6 11 21.6 32.7 17.2 13 8.1 10.2 13.4 21.8 ...\n",
      " $ Moderate.or.severely.thin.adolescents.age.group.10.to19.years.with...body.mass.index...bmi...for.age..z.score.less.than..2.sd....   : num  11.4 15.4 30.8 31.4 18.1 17.6 13.6 16.9 18.6 22.2 ...\n",
      " $ Severely.thin.adolescents.age.group.10.to.14.years.with...body.mass.index...bmi...for.age..z.score.less.than..3.sd....              : num  3.6 6.5 16.2 9.5 2.6 5.5 3.2 3.5 6.2 5 ...\n",
      " $ Severely.thin.adolescents.age.group.15.to.19.years.with....body.mass.index...bmi...for.age..z.score.less.than.3.sd....              : num  0.1 5.4 5.8 7 1.5 1.4 0.4 1.2 2.8 8.1 ...\n",
      " $ Severely.thin.adolescents.age.group.10.to.19.years.with...body.mass.index...bmi...for.age...z.score.less.than..3.sd....             : num  2.1 6 11.5 8.3 2.1 3.6 1.9 2.5 4.6 6.5 ...\n",
      " $ Overweight.or.obese.adolescents.age.group.10.to.14.years.with...body.mass.index...bmi...for.age...z.score.greater.than..1.sd....    : num  7.9 12.1 3.7 12 6.9 12.3 6 6.2 3.1 6.1 ...\n",
      " $ Overweight.or.obese.adolescents.age.group.15.to.19.years.with..body.mass.index...bmi...for.age...z.score.greater.than..1.sd....     : num  9.3 4.4 2.2 3.6 6.3 10.1 4.4 3.6 3.9 4.5 ...\n",
      " $ Overweight.or.obese.adolescents.age.group.10.to.19.years.with...body.mass.index...bmi...for.age...z.score.greater.than..1.sd....    : num  8.5 8.7 3.1 7.9 6.6 11.3 5.2 5.1 3.5 5.3 ...\n",
      " $ Obese.adolescents.age.group.10.to.14.years.with...body.mass.index...bmi...for.age...z.score.greater.than..2.sd....                  : num  1.3 2.1 1.2 1.7 2.8 2.7 1.2 1.4 1.2 2.1 ...\n",
      " $ Obese.adolescents.age.group.15.to.19.years.with...body.mass.index...bmi...for.age...z.score.greater.than..2.sd....                  : num  2.1 1.1 0.2 1.3 2 2.9 0.6 0.8 0 1.5 ...\n",
      " $ Obese.adolescents.age.group.10.to.19.years.with...body.mass.index...bmi...for.age...z.score.greater.than..2.sd....                  : num  1.6 1.6 0.8 1.5 2.4 2.8 0.9 1.2 0.6 1.8 ...\n"
     ]
    }
   ],
   "source": [
    "dat <- read.csv('/kaggle/input/national-nutritional-survey/Comprehensive National Nutrition Survey (CNNS) 2016-18  Key Anthropometric Indicators by Sex.csv')\n",
    "str(dat)"
   ]
  },
  {
   "cell_type": "code",
   "execution_count": 3,
   "id": "338eacce",
   "metadata": {
    "execution": {
     "iopub.execute_input": "2023-10-02T16:40:23.156188Z",
     "iopub.status.busy": "2023-10-02T16:40:23.154606Z",
     "iopub.status.idle": "2023-10-02T16:40:23.244691Z",
     "shell.execute_reply": "2023-10-02T16:40:23.242796Z"
    },
    "papermill": {
     "duration": 0.097011,
     "end_time": "2023-10-02T16:40:23.247123",
     "exception": false,
     "start_time": "2023-10-02T16:40:23.150112",
     "status": "completed"
    },
    "tags": [],
    "vscode": {
     "languageId": "r"
    }
   },
   "outputs": [
    {
     "name": "stdout",
     "output_type": "stream",
     "text": [
      "'data.frame':\t62 obs. of  44 variables:\n",
      " $ Rowid                                                                                                                               : int  1 2 3 4 5 6 7 8 9 10 ...\n",
      " $ Country                                                                                                                             : chr  \"India\" \"India\" \"India\" \"India\" ...\n",
      " $ State.lgd.code                                                                                                                      : int  1 1 2 2 3 3 5 5 6 6 ...\n",
      " $ State                                                                                                                               : chr  \"Jammu And Kashmir\" \"Jammu And Kashmir\" \"Himachal Pradesh\" \"Himachal Pradesh\" ...\n",
      " $ Yearcode                                                                                                                            : int  2018 2018 2018 2018 2018 2018 2018 2018 2018 2018 ...\n",
      " $ Year                                                                                                                                : chr  \"Calendar Year (Jan - Dec), 2018\" \"Calendar Year (Jan - Dec), 2018\" \"Calendar Year (Jan - Dec), 2018\" \"Calendar Year (Jan - Dec), 2018\" ...\n",
      " $ From.year                                                                                                                           : int  2016 2016 2016 2016 2016 2016 2016 2016 2016 2016 ...\n",
      " $ Gender                                                                                                                              : chr  \"Female\" \"Male\" \"Female\" \"Male\" ...\n",
      " $ Stunted..height.for.age..children.under.the.age.of.5.years....                                                                      : num  13.8 17.4 23.6 32.7 19.6 28.6 29.4 30.4 32.3 37.2 ...\n",
      " $ Severely.stunted..height.for.age..children.under.the.age.of.5.years....                                                             : num  5.1 6.7 7.9 5.7 5.1 10.5 9.7 9.9 11.2 12.1 ...\n",
      " $ Wasted..weight.for.height..children.under.the.age.of.5.years....                                                                    : num  16.7 12.7 10.6 11.5 4.1 9 6.7 5.1 10.2 13.1 ...\n",
      " $ Severely.wasted..weight.for.height..children.under.the.age.of.5.years....                                                           : num  6.1 7.8 2.7 3.4 1.4 3 2 0.8 1 3.1 ...\n",
      " $ Underweight.children.under.the.age.of.5.years....                                                                                   : num  10.1 16.6 23.2 22.1 16.2 22.9 20.6 16.9 27.4 29.9 ...\n",
      " $ Severely.underweight.children.under.the.age.of.5.years....                                                                          : num  2.8 7.3 6 4.9 2.5 6.9 3.8 3 9.8 8.3 ...\n",
      " $ Children.age.group.6.to.59.months.with.mid.upper.arm.circumference...muac...less.than.12.5.cm....                                   : num  6.4 5.6 3.5 1.5 3.9 3.6 1.6 0 5.4 4 ...\n",
      " $ Children.age.group.6.to.59.months.with.muac.mid.upper.arm.circumference..less.than.11.5.cm....                                      : num  2.6 2.5 1.3 0 1.4 0.8 0.1 0 1.2 0.3 ...\n",
      " $ Children.age.group..6.to.59.months.with.mid.upper.arm.circumference...muac...for.age.less.than..2.sd....                            : num  8.8 8.6 9.7 5.7 6.8 11.8 3.3 2.4 8.2 11 ...\n",
      " $ Children.age.group.6.to.59.months.with.mid.upper.arm.circumference...muac...for.age.less.than..3.sd....                             : num  3.4 3 0.5 0.9 1.8 1.4 0.3 0 1.9 2.9 ...\n",
      " $ Children.under.the.age.5.years.with.triceps.skinfold..thickness.for.age..less.than..2.sd....                                        : num  24.8 16.9 12.2 9.3 7.3 7.3 4.9 5.2 6.1 8.2 ...\n",
      " $ Children.under.the.age.5.years.with.triceps.skinfold..thickness.for.age..less.than..3.sd....                                        : num  5.8 6.3 1.6 0.3 0.6 1.2 0.8 2.6 2.6 1.5 ...\n",
      " $ Children.under.the.age.5.years.with.triceps.skinfold..thickness.for.age..greater.than..2.sd....                                     : num  0.7 0.8 1.2 0.1 2.7 2.2 4.1 3.8 1.1 2.3 ...\n",
      " $ Children.under.the.age.5.years.with.triceps.skinfold..thickness.for.age..greater.than..3.sd....                                     : num  0 0 0 0 0.1 0 0.3 0.3 0 0 ...\n",
      " $ Children.age.group.1.to.4.years.with.subscapular.skinfold..thickness.for.age..less.than..2.sd....                                   : num  17.4 14.7 11.2 9 5.3 4.5 7.7 5.4 5.7 10.7 ...\n",
      " $ Children.age.group.of.1.to.4.years.with.subscapular.skinfold..thickness.for.age..less.than..3.sd....                                : num  1.2 2.1 0.3 1.4 1.2 1.1 1.3 2.1 2.2 2.2 ...\n",
      " $ Children.age.group.1.to.4.years.subscapular.skinfold..thickness.for.age..greater.than..2.sd....                                     : num  1.1 3.6 2.8 1.4 0.8 3.6 4.8 4.5 1 1.4 ...\n",
      " $ Children.age.group.1.to.4.years.with.subscapular.skinfold..thickness.for.age..greater.than..3.sd....                                : num  0 0.2 0 0 0.2 0 0.5 0.6 0 0.3 ...\n",
      " $ Stunned.children.age.group.5.to.9.years....                                                                                         : num  13.1 13.5 22.5 17.8 13.9 11.2 18.3 22.4 18.8 14.5 ...\n",
      " $ Severely.stunted.children.age.group.of.5.to.9.years....                                                                             : num  5.3 4.3 2.6 3.7 2.4 2.6 4.1 4.1 3.8 2.3 ...\n",
      " $ Moderate.or.severely.thin.children.age.group.5.to.9.years.with...body.mass.index...bmi...for.age..z.score.less.than..2.sd....       : num  15.7 17.6 17.9 27 8.9 14 12.2 16.1 17.8 22.7 ...\n",
      " $ Severely.thin.children.in.the.age.group.5.to.9.years.with...body.mass.index...bmi...for.age..z.score.less.than..3.sd....            : num  6.4 7.1 4.3 4.9 2.4 2.1 2.6 4.7 2.5 4.2 ...\n",
      " $ Overweight.or.obese.children.age.group.5.to.9.years.with...body.mass.index...bmi...for.age..z.score.greater.than..1.sd....          : num  8.4 9.5 2.7 5.1 8 7.9 5.4 6.8 3.6 3.7 ...\n",
      " $ Overweight.or.obese.children.age.group.5.to.9.years.with...body.mass.index...bmi...for.age..z.score.greater.than..2.sd....          : num  2.6 4.3 1.2 1.2 2.5 3 1.5 2.3 0.9 1.4 ...\n",
      " $ Moderate.or.severely.thin.adolescents.age.group.10.to14.years.with...body.mass.index...bmi...for.age..z.score.less.than..2.sd....   : num  16.6 19 38.5 30.1 19 21.4 18.1 21.9 23.1 22.5 ...\n",
      " $ Moderate.or.severely.thin.adolescents.age.group.of.15.to19.years.with...body.mass.index...bmi...for.age..z.score.less.than..2.sd....: num  4.6 11 21.6 32.7 17.2 13 8.1 10.2 13.4 21.8 ...\n",
      " $ Moderate.or.severely.thin.adolescents.age.group.10.to19.years.with...body.mass.index...bmi...for.age..z.score.less.than..2.sd....   : num  11.4 15.4 30.8 31.4 18.1 17.6 13.6 16.9 18.6 22.2 ...\n",
      " $ Severely.thin.adolescents.age.group.10.to.14.years.with...body.mass.index...bmi...for.age..z.score.less.than..3.sd....              : num  3.6 6.5 16.2 9.5 2.6 5.5 3.2 3.5 6.2 5 ...\n",
      " $ Severely.thin.adolescents.age.group.15.to.19.years.with....body.mass.index...bmi...for.age..z.score.less.than.3.sd....              : num  0.1 5.4 5.8 7 1.5 1.4 0.4 1.2 2.8 8.1 ...\n",
      " $ Severely.thin.adolescents.age.group.10.to.19.years.with...body.mass.index...bmi...for.age...z.score.less.than..3.sd....             : num  2.1 6 11.5 8.3 2.1 3.6 1.9 2.5 4.6 6.5 ...\n",
      " $ Overweight.or.obese.adolescents.age.group.10.to.14.years.with...body.mass.index...bmi...for.age...z.score.greater.than..1.sd....    : num  7.9 12.1 3.7 12 6.9 12.3 6 6.2 3.1 6.1 ...\n",
      " $ Overweight.or.obese.adolescents.age.group.15.to.19.years.with..body.mass.index...bmi...for.age...z.score.greater.than..1.sd....     : num  9.3 4.4 2.2 3.6 6.3 10.1 4.4 3.6 3.9 4.5 ...\n",
      " $ Overweight.or.obese.adolescents.age.group.10.to.19.years.with...body.mass.index...bmi...for.age...z.score.greater.than..1.sd....    : num  8.5 8.7 3.1 7.9 6.6 11.3 5.2 5.1 3.5 5.3 ...\n",
      " $ Obese.adolescents.age.group.10.to.14.years.with...body.mass.index...bmi...for.age...z.score.greater.than..2.sd....                  : num  1.3 2.1 1.2 1.7 2.8 2.7 1.2 1.4 1.2 2.1 ...\n",
      " $ Obese.adolescents.age.group.15.to.19.years.with...body.mass.index...bmi...for.age...z.score.greater.than..2.sd....                  : num  2.1 1.1 0.2 1.3 2 2.9 0.6 0.8 0 1.5 ...\n",
      " $ Obese.adolescents.age.group.10.to.19.years.with...body.mass.index...bmi...for.age...z.score.greater.than..2.sd....                  : num  1.6 1.6 0.8 1.5 2.4 2.8 0.9 1.2 0.6 1.8 ...\n",
      "'data.frame':\t62 obs. of  7 variables:\n",
      " $ Gender                                                                   : chr  \"Female\" \"Male\" \"Female\" \"Male\" ...\n",
      " $ Stunted..height.for.age..children.under.the.age.of.5.years....           : num  13.8 17.4 23.6 32.7 19.6 28.6 29.4 30.4 32.3 37.2 ...\n",
      " $ Severely.stunted..height.for.age..children.under.the.age.of.5.years....  : num  5.1 6.7 7.9 5.7 5.1 10.5 9.7 9.9 11.2 12.1 ...\n",
      " $ Wasted..weight.for.height..children.under.the.age.of.5.years....         : num  16.7 12.7 10.6 11.5 4.1 9 6.7 5.1 10.2 13.1 ...\n",
      " $ Severely.wasted..weight.for.height..children.under.the.age.of.5.years....: num  6.1 7.8 2.7 3.4 1.4 3 2 0.8 1 3.1 ...\n",
      " $ Underweight.children.under.the.age.of.5.years....                        : num  10.1 16.6 23.2 22.1 16.2 22.9 20.6 16.9 27.4 29.9 ...\n",
      " $ Severely.underweight.children.under.the.age.of.5.years....               : num  2.8 7.3 6 4.9 2.5 6.9 3.8 3 9.8 8.3 ...\n"
     ]
    }
   ],
   "source": [
    "# step 1 : collect the data\n",
    "dat <- read.csv('/kaggle/input/national-nutritional-survey/Comprehensive National Nutrition Survey (CNNS) 2016-18  Key Anthropometric Indicators by Sex.csv')\n",
    "\n",
    "# step 2 : inspect data\n",
    "str(dat)\n",
    "\n",
    "# step 3 : select some feature and collect, \n",
    "# save it into new data called 'data'\n",
    "data <- data.frame(dat[,8:14])\n",
    "\n",
    "# step 4 : inspect the data\n",
    "str(data)\n",
    "\n",
    "# Step 5 : some variables are too long 'names' so we need to change them to X. \n",
    "# It might be easy for us to put in to the model\n",
    "Gender <- dat$Gender\n",
    "X1 <- dat$Stunted..height.for.age..children.under.the.age.of.5.years....            \n",
    "X2 <- dat$Severely.stunted..height.for.age..children.under.the.age.of.5.years....   \n",
    "X3 <- dat$Wasted..weight.for.height..children.under.the.age.of.5.years....          \n",
    "X4 <- dat$Severely.wasted..weight.for.height..children.under.the.age.of.5.years.... \n",
    "X5 <- dat$Underweight.children.under.the.age.of.5.years....                        \n",
    "X6 <- dat$Severely.underweight.children.under.the.age.of.5.years....\n",
    "\n",
    "# step 6 : make a new dataset \n",
    "newdata <- data.frame(Gender, X1, X2, X3, X4, X5, X6)"
   ]
  },
  {
   "cell_type": "code",
   "execution_count": 4,
   "id": "68c9bfac",
   "metadata": {
    "execution": {
     "iopub.execute_input": "2023-10-02T16:40:23.255920Z",
     "iopub.status.busy": "2023-10-02T16:40:23.254364Z",
     "iopub.status.idle": "2023-10-02T16:40:23.278830Z",
     "shell.execute_reply": "2023-10-02T16:40:23.277009Z"
    },
    "papermill": {
     "duration": 0.031736,
     "end_time": "2023-10-02T16:40:23.281558",
     "exception": false,
     "start_time": "2023-10-02T16:40:23.249822",
     "status": "completed"
    },
    "tags": [],
    "vscode": {
     "languageId": "r"
    }
   },
   "outputs": [
    {
     "name": "stdout",
     "output_type": "stream",
     "text": [
      "'data.frame':\t62 obs. of  7 variables:\n",
      " $ Gender: Factor w/ 2 levels \"Female\",\"Male\": 1 2 1 2 1 2 1 2 1 2 ...\n",
      " $ X1    : num  13.8 17.4 23.6 32.7 19.6 28.6 29.4 30.4 32.3 37.2 ...\n",
      " $ X2    : num  5.1 6.7 7.9 5.7 5.1 10.5 9.7 9.9 11.2 12.1 ...\n",
      " $ X3    : num  16.7 12.7 10.6 11.5 4.1 9 6.7 5.1 10.2 13.1 ...\n",
      " $ X4    : num  6.1 7.8 2.7 3.4 1.4 3 2 0.8 1 3.1 ...\n",
      " $ X5    : num  10.1 16.6 23.2 22.1 16.2 22.9 20.6 16.9 27.4 29.9 ...\n",
      " $ X6    : num  2.8 7.3 6 4.9 2.5 6.9 3.8 3 9.8 8.3 ...\n"
     ]
    }
   ],
   "source": [
    "newdata$Gender <- as.factor(newdata$Gender)\n",
    "str(newdata)"
   ]
  },
  {
   "cell_type": "code",
   "execution_count": 5,
   "id": "5f1e30bd",
   "metadata": {
    "execution": {
     "iopub.execute_input": "2023-10-02T16:40:23.290296Z",
     "iopub.status.busy": "2023-10-02T16:40:23.288777Z",
     "iopub.status.idle": "2023-10-02T16:40:23.338697Z",
     "shell.execute_reply": "2023-10-02T16:40:23.336839Z"
    },
    "papermill": {
     "duration": 0.05683,
     "end_time": "2023-10-02T16:40:23.341103",
     "exception": false,
     "start_time": "2023-10-02T16:40:23.284273",
     "status": "completed"
    },
    "tags": [],
    "vscode": {
     "languageId": "r"
    }
   },
   "outputs": [
    {
     "data": {
      "text/plain": [
       "\n",
       "Call:\n",
       "glm(formula = Gender ~ ., family = \"binomial\", data = newdata)\n",
       "\n",
       "Deviance Residuals: \n",
       "     Min        1Q    Median        3Q       Max  \n",
       "-1.55832  -1.08082   0.03232   1.01394   1.62086  \n",
       "\n",
       "Coefficients:\n",
       "            Estimate Std. Error z value Pr(>|z|)  \n",
       "(Intercept) -3.11152    1.86271  -1.670   0.0948 .\n",
       "X1           0.15885    0.10469   1.517   0.1292  \n",
       "X2           0.03802    0.15177   0.250   0.8022  \n",
       "X3           0.25313    0.13322   1.900   0.0574 .\n",
       "X4          -0.09603    0.21692  -0.443   0.6580  \n",
       "X5          -0.23099    0.09585  -2.410   0.0160 *\n",
       "X6           0.09963    0.19460   0.512   0.6087  \n",
       "---\n",
       "Signif. codes:  0 ‘***’ 0.001 ‘**’ 0.01 ‘*’ 0.05 ‘.’ 0.1 ‘ ’ 1\n",
       "\n",
       "(Dispersion parameter for binomial family taken to be 1)\n",
       "\n",
       "    Null deviance: 85.950  on 61  degrees of freedom\n",
       "Residual deviance: 76.347  on 55  degrees of freedom\n",
       "AIC: 90.347\n",
       "\n",
       "Number of Fisher Scoring iterations: 4\n"
      ]
     },
     "metadata": {},
     "output_type": "display_data"
    }
   ],
   "source": [
    "logistic <- glm(Gender ~ ., family = \"binomial\", data=newdata)\n",
    "summary(logistic)"
   ]
  }
 ],
 "metadata": {
  "kernelspec": {
   "display_name": "R",
   "language": "R",
   "name": "ir"
  },
  "language_info": {
   "codemirror_mode": "r",
   "file_extension": ".r",
   "mimetype": "text/x-r-source",
   "name": "R",
   "pygments_lexer": "r",
   "version": "4.0.5"
  },
  "papermill": {
   "default_parameters": {},
   "duration": 5.433318,
   "end_time": "2023-10-02T16:40:23.465744",
   "environment_variables": {},
   "exception": null,
   "input_path": "__notebook__.ipynb",
   "output_path": "__notebook__.ipynb",
   "parameters": {},
   "start_time": "2023-10-02T16:40:18.032426",
   "version": "2.4.0"
  }
 },
 "nbformat": 4,
 "nbformat_minor": 5
}
