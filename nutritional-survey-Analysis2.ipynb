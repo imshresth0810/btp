{
 "cells": [
  {
   "cell_type": "code",
   "execution_count": null,
   "metadata": {
    "vscode": {
     "languageId": "python"
    }
   },
   "outputs": [],
   "source": [
    "#Comprehensive national nutrition survey (CNNS)\n",
    "#Analysis based on Key Anthropometric Indicators by sex\n",
    "\n",
    "#Second Draft"
   ]
  },
  {
   "cell_type": "code",
   "execution_count": 1,
   "id": "f104653a",
   "metadata": {
    "_execution_state": "idle",
    "_uuid": "051d70d956493feee0c6d64651c6a088724dca2a",
    "execution": {
     "iopub.execute_input": "2023-10-02T16:35:39.033406Z",
     "iopub.status.busy": "2023-10-02T16:35:39.031863Z",
     "iopub.status.idle": "2023-10-02T16:35:39.929410Z",
     "shell.execute_reply": "2023-10-02T16:35:39.928015Z"
    },
    "papermill": {
     "duration": 0.903896,
     "end_time": "2023-10-02T16:35:39.931198",
     "exception": false,
     "start_time": "2023-10-02T16:35:39.027302",
     "status": "completed"
    },
    "tags": [],
    "vscode": {
     "languageId": "r"
    }
   },
   "outputs": [
    {
     "name": "stderr",
     "output_type": "stream",
     "text": [
      "── \u001b[1mAttaching core tidyverse packages\u001b[22m ──────────────────────── tidyverse 2.0.0 ──\n",
      "\u001b[32m✔\u001b[39m \u001b[34mdplyr    \u001b[39m 1.1.2     \u001b[32m✔\u001b[39m \u001b[34mreadr    \u001b[39m 2.1.4\n",
      "\u001b[32m✔\u001b[39m \u001b[34mforcats  \u001b[39m 1.0.0     \u001b[32m✔\u001b[39m \u001b[34mstringr  \u001b[39m 1.5.0\n",
      "\u001b[32m✔\u001b[39m \u001b[34mggplot2  \u001b[39m 3.4.2     \u001b[32m✔\u001b[39m \u001b[34mtibble   \u001b[39m 3.2.1\n",
      "\u001b[32m✔\u001b[39m \u001b[34mlubridate\u001b[39m 1.9.2     \u001b[32m✔\u001b[39m \u001b[34mtidyr    \u001b[39m 1.3.0\n",
      "\u001b[32m✔\u001b[39m \u001b[34mpurrr    \u001b[39m 1.0.1     \n",
      "── \u001b[1mConflicts\u001b[22m ────────────────────────────────────────── tidyverse_conflicts() ──\n",
      "\u001b[31m✖\u001b[39m \u001b[34mdplyr\u001b[39m::\u001b[32mfilter()\u001b[39m masks \u001b[34mstats\u001b[39m::filter()\n",
      "\u001b[31m✖\u001b[39m \u001b[34mdplyr\u001b[39m::\u001b[32mlag()\u001b[39m    masks \u001b[34mstats\u001b[39m::lag()\n",
      "\u001b[36mℹ\u001b[39m Use the conflicted package (\u001b[3m\u001b[34m<http://conflicted.r-lib.org/>\u001b[39m\u001b[23m) to force all conflicts to become errors\n"
     ]
    },
    {
     "data": {
      "text/html": [
       "'national-nutritional-survey'"
      ],
      "text/latex": [
       "'national-nutritional-survey'"
      ],
      "text/markdown": [
       "'national-nutritional-survey'"
      ],
      "text/plain": [
       "[1] \"national-nutritional-survey\""
      ]
     },
     "metadata": {},
     "output_type": "display_data"
    }
   ],
   "source": [
    "\n",
    "\n",
    "library(tidyverse) # metapackage of all tidyverse packages\n",
    "\n",
    "\n",
    "\n",
    "list.files(path = \"../input\")\n",
    "\n"
   ]
  },
  {
   "cell_type": "code",
   "execution_count": 2,
   "id": "c18bb1bd",
   "metadata": {
    "execution": {
     "iopub.execute_input": "2023-10-02T16:35:39.961332Z",
     "iopub.status.busy": "2023-10-02T16:35:39.937146Z",
     "iopub.status.idle": "2023-10-02T16:35:39.982768Z",
     "shell.execute_reply": "2023-10-02T16:35:39.981399Z"
    },
    "papermill": {
     "duration": 0.050898,
     "end_time": "2023-10-02T16:35:39.984489",
     "exception": false,
     "start_time": "2023-10-02T16:35:39.933591",
     "status": "completed"
    },
    "tags": [],
    "vscode": {
     "languageId": "r"
    }
   },
   "outputs": [],
   "source": [
    "dat <- read.csv('/kaggle/input/national-nutritional-survey/Comprehensive National Nutrition Survey (CNNS) 2016-18  Key Anthropometric Indicators by Sex.csv')\n"
   ]
  },
  {
   "cell_type": "markdown",
   "id": "0baecf5c",
   "metadata": {
    "papermill": {
     "duration": 0.001968,
     "end_time": "2023-10-02T16:35:39.988371",
     "exception": false,
     "start_time": "2023-10-02T16:35:39.986403",
     "status": "completed"
    },
    "tags": []
   },
   "source": [
    "# Random Forest Model for Nutritional Children under 5 Years Over 2016 in India"
   ]
  },
  {
   "cell_type": "code",
   "execution_count": 3,
   "id": "a76619f3",
   "metadata": {
    "execution": {
     "iopub.execute_input": "2023-10-02T16:35:39.994423Z",
     "iopub.status.busy": "2023-10-02T16:35:39.993391Z",
     "iopub.status.idle": "2023-10-02T16:35:40.080233Z",
     "shell.execute_reply": "2023-10-02T16:35:40.078822Z"
    },
    "papermill": {
     "duration": 0.091827,
     "end_time": "2023-10-02T16:35:40.082114",
     "exception": false,
     "start_time": "2023-10-02T16:35:39.990287",
     "status": "completed"
    },
    "tags": [],
    "vscode": {
     "languageId": "r"
    }
   },
   "outputs": [
    {
     "name": "stdout",
     "output_type": "stream",
     "text": [
      "'data.frame':\t62 obs. of  44 variables:\n",
      " $ Rowid                                                                                                                               : int  1 2 3 4 5 6 7 8 9 10 ...\n",
      " $ Country                                                                                                                             : chr  \"India\" \"India\" \"India\" \"India\" ...\n",
      " $ State.lgd.code                                                                                                                      : int  1 1 2 2 3 3 5 5 6 6 ...\n",
      " $ State                                                                                                                               : chr  \"Jammu And Kashmir\" \"Jammu And Kashmir\" \"Himachal Pradesh\" \"Himachal Pradesh\" ...\n",
      " $ Yearcode                                                                                                                            : int  2018 2018 2018 2018 2018 2018 2018 2018 2018 2018 ...\n",
      " $ Year                                                                                                                                : chr  \"Calendar Year (Jan - Dec), 2018\" \"Calendar Year (Jan - Dec), 2018\" \"Calendar Year (Jan - Dec), 2018\" \"Calendar Year (Jan - Dec), 2018\" ...\n",
      " $ From.year                                                                                                                           : int  2016 2016 2016 2016 2016 2016 2016 2016 2016 2016 ...\n",
      " $ Gender                                                                                                                              : chr  \"Female\" \"Male\" \"Female\" \"Male\" ...\n",
      " $ Stunted..height.for.age..children.under.the.age.of.5.years....                                                                      : num  13.8 17.4 23.6 32.7 19.6 28.6 29.4 30.4 32.3 37.2 ...\n",
      " $ Severely.stunted..height.for.age..children.under.the.age.of.5.years....                                                             : num  5.1 6.7 7.9 5.7 5.1 10.5 9.7 9.9 11.2 12.1 ...\n",
      " $ Wasted..weight.for.height..children.under.the.age.of.5.years....                                                                    : num  16.7 12.7 10.6 11.5 4.1 9 6.7 5.1 10.2 13.1 ...\n",
      " $ Severely.wasted..weight.for.height..children.under.the.age.of.5.years....                                                           : num  6.1 7.8 2.7 3.4 1.4 3 2 0.8 1 3.1 ...\n",
      " $ Underweight.children.under.the.age.of.5.years....                                                                                   : num  10.1 16.6 23.2 22.1 16.2 22.9 20.6 16.9 27.4 29.9 ...\n",
      " $ Severely.underweight.children.under.the.age.of.5.years....                                                                          : num  2.8 7.3 6 4.9 2.5 6.9 3.8 3 9.8 8.3 ...\n",
      " $ Children.age.group.6.to.59.months.with.mid.upper.arm.circumference...muac...less.than.12.5.cm....                                   : num  6.4 5.6 3.5 1.5 3.9 3.6 1.6 0 5.4 4 ...\n",
      " $ Children.age.group.6.to.59.months.with.muac.mid.upper.arm.circumference..less.than.11.5.cm....                                      : num  2.6 2.5 1.3 0 1.4 0.8 0.1 0 1.2 0.3 ...\n",
      " $ Children.age.group..6.to.59.months.with.mid.upper.arm.circumference...muac...for.age.less.than..2.sd....                            : num  8.8 8.6 9.7 5.7 6.8 11.8 3.3 2.4 8.2 11 ...\n",
      " $ Children.age.group.6.to.59.months.with.mid.upper.arm.circumference...muac...for.age.less.than..3.sd....                             : num  3.4 3 0.5 0.9 1.8 1.4 0.3 0 1.9 2.9 ...\n",
      " $ Children.under.the.age.5.years.with.triceps.skinfold..thickness.for.age..less.than..2.sd....                                        : num  24.8 16.9 12.2 9.3 7.3 7.3 4.9 5.2 6.1 8.2 ...\n",
      " $ Children.under.the.age.5.years.with.triceps.skinfold..thickness.for.age..less.than..3.sd....                                        : num  5.8 6.3 1.6 0.3 0.6 1.2 0.8 2.6 2.6 1.5 ...\n",
      " $ Children.under.the.age.5.years.with.triceps.skinfold..thickness.for.age..greater.than..2.sd....                                     : num  0.7 0.8 1.2 0.1 2.7 2.2 4.1 3.8 1.1 2.3 ...\n",
      " $ Children.under.the.age.5.years.with.triceps.skinfold..thickness.for.age..greater.than..3.sd....                                     : num  0 0 0 0 0.1 0 0.3 0.3 0 0 ...\n",
      " $ Children.age.group.1.to.4.years.with.subscapular.skinfold..thickness.for.age..less.than..2.sd....                                   : num  17.4 14.7 11.2 9 5.3 4.5 7.7 5.4 5.7 10.7 ...\n",
      " $ Children.age.group.of.1.to.4.years.with.subscapular.skinfold..thickness.for.age..less.than..3.sd....                                : num  1.2 2.1 0.3 1.4 1.2 1.1 1.3 2.1 2.2 2.2 ...\n",
      " $ Children.age.group.1.to.4.years.subscapular.skinfold..thickness.for.age..greater.than..2.sd....                                     : num  1.1 3.6 2.8 1.4 0.8 3.6 4.8 4.5 1 1.4 ...\n",
      " $ Children.age.group.1.to.4.years.with.subscapular.skinfold..thickness.for.age..greater.than..3.sd....                                : num  0 0.2 0 0 0.2 0 0.5 0.6 0 0.3 ...\n",
      " $ Stunned.children.age.group.5.to.9.years....                                                                                         : num  13.1 13.5 22.5 17.8 13.9 11.2 18.3 22.4 18.8 14.5 ...\n",
      " $ Severely.stunted.children.age.group.of.5.to.9.years....                                                                             : num  5.3 4.3 2.6 3.7 2.4 2.6 4.1 4.1 3.8 2.3 ...\n",
      " $ Moderate.or.severely.thin.children.age.group.5.to.9.years.with...body.mass.index...bmi...for.age..z.score.less.than..2.sd....       : num  15.7 17.6 17.9 27 8.9 14 12.2 16.1 17.8 22.7 ...\n",
      " $ Severely.thin.children.in.the.age.group.5.to.9.years.with...body.mass.index...bmi...for.age..z.score.less.than..3.sd....            : num  6.4 7.1 4.3 4.9 2.4 2.1 2.6 4.7 2.5 4.2 ...\n",
      " $ Overweight.or.obese.children.age.group.5.to.9.years.with...body.mass.index...bmi...for.age..z.score.greater.than..1.sd....          : num  8.4 9.5 2.7 5.1 8 7.9 5.4 6.8 3.6 3.7 ...\n",
      " $ Overweight.or.obese.children.age.group.5.to.9.years.with...body.mass.index...bmi...for.age..z.score.greater.than..2.sd....          : num  2.6 4.3 1.2 1.2 2.5 3 1.5 2.3 0.9 1.4 ...\n",
      " $ Moderate.or.severely.thin.adolescents.age.group.10.to14.years.with...body.mass.index...bmi...for.age..z.score.less.than..2.sd....   : num  16.6 19 38.5 30.1 19 21.4 18.1 21.9 23.1 22.5 ...\n",
      " $ Moderate.or.severely.thin.adolescents.age.group.of.15.to19.years.with...body.mass.index...bmi...for.age..z.score.less.than..2.sd....: num  4.6 11 21.6 32.7 17.2 13 8.1 10.2 13.4 21.8 ...\n",
      " $ Moderate.or.severely.thin.adolescents.age.group.10.to19.years.with...body.mass.index...bmi...for.age..z.score.less.than..2.sd....   : num  11.4 15.4 30.8 31.4 18.1 17.6 13.6 16.9 18.6 22.2 ...\n",
      " $ Severely.thin.adolescents.age.group.10.to.14.years.with...body.mass.index...bmi...for.age..z.score.less.than..3.sd....              : num  3.6 6.5 16.2 9.5 2.6 5.5 3.2 3.5 6.2 5 ...\n",
      " $ Severely.thin.adolescents.age.group.15.to.19.years.with....body.mass.index...bmi...for.age..z.score.less.than.3.sd....              : num  0.1 5.4 5.8 7 1.5 1.4 0.4 1.2 2.8 8.1 ...\n",
      " $ Severely.thin.adolescents.age.group.10.to.19.years.with...body.mass.index...bmi...for.age...z.score.less.than..3.sd....             : num  2.1 6 11.5 8.3 2.1 3.6 1.9 2.5 4.6 6.5 ...\n",
      " $ Overweight.or.obese.adolescents.age.group.10.to.14.years.with...body.mass.index...bmi...for.age...z.score.greater.than..1.sd....    : num  7.9 12.1 3.7 12 6.9 12.3 6 6.2 3.1 6.1 ...\n",
      " $ Overweight.or.obese.adolescents.age.group.15.to.19.years.with..body.mass.index...bmi...for.age...z.score.greater.than..1.sd....     : num  9.3 4.4 2.2 3.6 6.3 10.1 4.4 3.6 3.9 4.5 ...\n",
      " $ Overweight.or.obese.adolescents.age.group.10.to.19.years.with...body.mass.index...bmi...for.age...z.score.greater.than..1.sd....    : num  8.5 8.7 3.1 7.9 6.6 11.3 5.2 5.1 3.5 5.3 ...\n",
      " $ Obese.adolescents.age.group.10.to.14.years.with...body.mass.index...bmi...for.age...z.score.greater.than..2.sd....                  : num  1.3 2.1 1.2 1.7 2.8 2.7 1.2 1.4 1.2 2.1 ...\n",
      " $ Obese.adolescents.age.group.15.to.19.years.with...body.mass.index...bmi...for.age...z.score.greater.than..2.sd....                  : num  2.1 1.1 0.2 1.3 2 2.9 0.6 0.8 0 1.5 ...\n",
      " $ Obese.adolescents.age.group.10.to.19.years.with...body.mass.index...bmi...for.age...z.score.greater.than..2.sd....                  : num  1.6 1.6 0.8 1.5 2.4 2.8 0.9 1.2 0.6 1.8 ...\n",
      "'data.frame':\t62 obs. of  7 variables:\n",
      " $ Gender                                                                   : chr  \"Female\" \"Male\" \"Female\" \"Male\" ...\n",
      " $ Stunted..height.for.age..children.under.the.age.of.5.years....           : num  13.8 17.4 23.6 32.7 19.6 28.6 29.4 30.4 32.3 37.2 ...\n",
      " $ Severely.stunted..height.for.age..children.under.the.age.of.5.years....  : num  5.1 6.7 7.9 5.7 5.1 10.5 9.7 9.9 11.2 12.1 ...\n",
      " $ Wasted..weight.for.height..children.under.the.age.of.5.years....         : num  16.7 12.7 10.6 11.5 4.1 9 6.7 5.1 10.2 13.1 ...\n",
      " $ Severely.wasted..weight.for.height..children.under.the.age.of.5.years....: num  6.1 7.8 2.7 3.4 1.4 3 2 0.8 1 3.1 ...\n",
      " $ Underweight.children.under.the.age.of.5.years....                        : num  10.1 16.6 23.2 22.1 16.2 22.9 20.6 16.9 27.4 29.9 ...\n",
      " $ Severely.underweight.children.under.the.age.of.5.years....               : num  2.8 7.3 6 4.9 2.5 6.9 3.8 3 9.8 8.3 ...\n",
      "'data.frame':\t62 obs. of  7 variables:\n",
      " $ Gender: Factor w/ 2 levels \"Female\",\"Male\": 1 2 1 2 1 2 1 2 1 2 ...\n",
      " $ X1    : num  13.8 17.4 23.6 32.7 19.6 28.6 29.4 30.4 32.3 37.2 ...\n",
      " $ X2    : num  5.1 6.7 7.9 5.7 5.1 10.5 9.7 9.9 11.2 12.1 ...\n",
      " $ X3    : num  16.7 12.7 10.6 11.5 4.1 9 6.7 5.1 10.2 13.1 ...\n",
      " $ X4    : num  6.1 7.8 2.7 3.4 1.4 3 2 0.8 1 3.1 ...\n",
      " $ X5    : num  10.1 16.6 23.2 22.1 16.2 22.9 20.6 16.9 27.4 29.9 ...\n",
      " $ X6    : num  2.8 7.3 6 4.9 2.5 6.9 3.8 3 9.8 8.3 ...\n"
     ]
    }
   ],
   "source": [
    "# step 1 : collect the data\n",
    "dat <- read.csv('/kaggle/input/national-nutritional-survey/Comprehensive National Nutrition Survey (CNNS) 2016-18  Key Anthropometric Indicators by Sex.csv')\n",
    "\n",
    "# step 2 : inspect data\n",
    "str(dat)\n",
    "\n",
    "# step 3 : select some feature and collect, \n",
    "# save it into new data called 'data'\n",
    "data <- data.frame(dat[,8:14])\n",
    "\n",
    "# step 4 : inspect the data\n",
    "str(data)\n",
    "\n",
    "# Step 5 : some variables are too long 'names' so we need to change them to X. \n",
    "# It might be easy for us to put in to the model\n",
    "Gender <- data$Gender\n",
    "X1 <- data$Stunted..height.for.age..children.under.the.age.of.5.years....            \n",
    "X2 <- data$Severely.stunted..height.for.age..children.under.the.age.of.5.years....   \n",
    "X3 <- data$Wasted..weight.for.height..children.under.the.age.of.5.years....          \n",
    "X4 <- data$Severely.wasted..weight.for.height..children.under.the.age.of.5.years.... \n",
    "X5 <- data$Underweight.children.under.the.age.of.5.years....                        \n",
    "X6 <- data$Severely.underweight.children.under.the.age.of.5.years....\n",
    "\n",
    "# step 6 : make a new dataset \n",
    "newdata <- data.frame(Gender, X1, X2, X3, X4, X5, X6)\n",
    "\n",
    "# Step 7 : we want the gender as a factor not a character, so we need to \n",
    "# change it into a factor\n",
    "newdata$Gender <- as.factor(newdata$Gender)\n",
    "\n",
    "# inspect the new dataset\n",
    "str(newdata)"
   ]
  },
  {
   "cell_type": "code",
   "execution_count": 4,
   "id": "9ce0e669",
   "metadata": {
    "execution": {
     "iopub.execute_input": "2023-10-02T16:35:40.089005Z",
     "iopub.status.busy": "2023-10-02T16:35:40.087925Z",
     "iopub.status.idle": "2023-10-02T16:35:40.809517Z",
     "shell.execute_reply": "2023-10-02T16:35:40.808213Z"
    },
    "papermill": {
     "duration": 0.726835,
     "end_time": "2023-10-02T16:35:40.811287",
     "exception": false,
     "start_time": "2023-10-02T16:35:40.084452",
     "status": "completed"
    },
    "tags": [],
    "vscode": {
     "languageId": "r"
    }
   },
   "outputs": [
    {
     "name": "stderr",
     "output_type": "stream",
     "text": [
      "randomForest 4.6-14\n",
      "\n",
      "Type rfNews() to see new features/changes/bug fixes.\n",
      "\n",
      "\n",
      "Attaching package: ‘randomForest’\n",
      "\n",
      "\n",
      "The following object is masked from ‘package:dplyr’:\n",
      "\n",
      "    combine\n",
      "\n",
      "\n",
      "The following object is masked from ‘package:ggplot2’:\n",
      "\n",
      "    margin\n",
      "\n",
      "\n"
     ]
    },
    {
     "data": {
      "text/plain": [
       "\n",
       "Call:\n",
       " randomForest(formula = Gender ~ ., data = newdata, proximity = TRUE,      ntree = 10000) \n",
       "               Type of random forest: classification\n",
       "                     Number of trees: 10000\n",
       "No. of variables tried at each split: 2\n",
       "\n",
       "        OOB estimate of  error rate: 45.16%\n",
       "Confusion matrix:\n",
       "       Female Male class.error\n",
       "Female     16   15   0.4838710\n",
       "Male       13   18   0.4193548"
      ]
     },
     "metadata": {},
     "output_type": "display_data"
    }
   ],
   "source": [
    "# step 8 : make a random forest model\n",
    "## use the Gender as a target label, and the others as a features\n",
    "library(randomForest)\n",
    "model <- randomForest(Gender ~ .,\n",
    "\tdata = newdata, proximity = TRUE, ntree=10000)\n",
    "model"
   ]
  },
  {
   "cell_type": "markdown",
   "id": "f717a4ae",
   "metadata": {
    "papermill": {
     "duration": 0.002459,
     "end_time": "2023-10-02T16:35:40.816373",
     "exception": false,
     "start_time": "2023-10-02T16:35:40.813914",
     "status": "completed"
    },
    "tags": []
   },
   "source": [
    "OOB said that the average error was 46.77%, meaning that the random forest model was only able to predict children nutrition by 53.23% based on the male and female.\n"
   ]
  },
  {
   "cell_type": "code",
   "execution_count": 5,
   "id": "c3d6e73e",
   "metadata": {
    "execution": {
     "iopub.execute_input": "2023-10-02T16:35:40.823788Z",
     "iopub.status.busy": "2023-10-02T16:35:40.822720Z",
     "iopub.status.idle": "2023-10-02T16:35:41.411517Z",
     "shell.execute_reply": "2023-10-02T16:35:41.409430Z"
    },
    "papermill": {
     "duration": 0.595344,
     "end_time": "2023-10-02T16:35:41.414084",
     "exception": false,
     "start_time": "2023-10-02T16:35:40.818740",
     "status": "completed"
    },
    "tags": [],
    "vscode": {
     "languageId": "r"
    }
   },
   "outputs": [
    {
     "data": {
      "image/png": "[encoded data removed]"
     },
     "metadata": {
      "image/png": {
       "height": 420,
       "width": 420
      }
     },
     "output_type": "display_data"
    }
   ],
   "source": [
    "# step 10 : plot the error rates to see if 1000 trees is enough for optimal classification\n",
    "oob.error.newdata <- data.frame(\n",
    "\tTrees=rep(1:nrow(model$err.rate), times=3),\n",
    "\tType=rep(c(\"OOB\", \"Female\", \"Male\"), \n",
    "\teach=nrow(model$err.rate)),\n",
    "\tError=c(model$err.rate[,\"OOB\"],\n",
    "\t\tmodel$err.rate[,\"Female\"],\n",
    "\t\tmodel$err.rate[,\"Male\"]))\n",
    "library(ggplot2)\n",
    "ggplot(data=oob.error.newdata, aes(x=Trees, y=Error)) +\n",
    "\tgeom_line(aes(color=Type))"
   ]
  },
  {
   "cell_type": "markdown",
   "id": "37025cc4",
   "metadata": {
    "papermill": {
     "duration": 0.003035,
     "end_time": "2023-10-02T16:35:41.420453",
     "exception": false,
     "start_time": "2023-10-02T16:35:41.417418",
     "status": "completed"
    },
    "tags": []
   },
   "source": [
    "This plot showed that the optimum number of trees for this model was 10000. Indicating that the error was stabilize in these number of trees."
   ]
  },
  {
   "cell_type": "code",
   "execution_count": 6,
   "id": "cd0e85ba",
   "metadata": {
    "execution": {
     "iopub.execute_input": "2023-10-02T16:35:41.429077Z",
     "iopub.status.busy": "2023-10-02T16:35:41.427861Z",
     "iopub.status.idle": "2023-10-02T16:35:41.602687Z",
     "shell.execute_reply": "2023-10-02T16:35:41.600415Z"
    },
    "papermill": {
     "duration": 0.181402,
     "end_time": "2023-10-02T16:35:41.605022",
     "exception": false,
     "start_time": "2023-10-02T16:35:41.423620",
     "status": "completed"
    },
    "tags": [],
    "vscode": {
     "languageId": "r"
    }
   },
   "outputs": [
    {
     "name": "stderr",
     "output_type": "stream",
     "text": [
      "Warning message in RColorBrewer::brewer.pal(nlevs, \"Set1\"):\n",
      "“minimal value for n is 3, returning requested palette with 3 different levels\n",
      "”\n"
     ]
    },
    {
     "data": {
      "image/png": "[encoded data removed]"
     },
     "metadata": {
      "image/png": {
       "height": 420,
       "width": 420
      }
     },
     "output_type": "display_data"
    }
   ],
   "source": [
    "MDSplot(model, newdata$Gender)"
   ]
  }
 ],
 "metadata": {
  "kernelspec": {
   "display_name": "R",
   "language": "R",
   "name": "ir"
  },
  "language_info": {
   "codemirror_mode": "r",
   "file_extension": ".r",
   "mimetype": "text/x-r-source",
   "name": "R",
   "pygments_lexer": "r",
   "version": "4.0.5"
  },
  "papermill": {
   "default_parameters": {},
   "duration": 5.403854,
   "end_time": "2023-10-02T16:35:41.727008",
   "environment_variables": {},
   "exception": null,
   "input_path": "__notebook__.ipynb",
   "output_path": "__notebook__.ipynb",
   "parameters": {},
   "start_time": "2023-10-02T16:35:36.323154",
   "version": "2.4.0"
  }
 },
 "nbformat": 4,
 "nbformat_minor": 5
}
